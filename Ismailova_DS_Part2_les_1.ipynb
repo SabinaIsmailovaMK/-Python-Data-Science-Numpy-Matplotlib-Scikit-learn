{
  "nbformat": 4,
  "nbformat_minor": 0,
  "metadata": {
    "colab": {
      "provenance": [],
      "authorship_tag": "ABX9TyN9TKui8RdpJUcor8WugYQ0",
      "include_colab_link": true
    },
    "kernelspec": {
      "name": "python3",
      "display_name": "Python 3"
    },
    "language_info": {
      "name": "python"
    }
  },
  "cells": [
    {
      "cell_type": "markdown",
      "metadata": {
        "id": "view-in-github",
        "colab_type": "text"
      },
      "source": [
        "<a href=\"https://colab.research.google.com/github/SabinaIsmailovaMK/-Python-Data-Science-Numpy-Matplotlib-Scikit-learn/blob/master/Ismailova_DS_Part2_les_1.ipynb\" target=\"_parent\"><img src=\"https://colab.research.google.com/assets/colab-badge.svg\" alt=\"Open In Colab\"/></a>"
      ]
    },
    {
      "cell_type": "markdown",
      "source": [
        "## 1. Приведите по 2 примера, когда лучше максимизировать Precision, а когда Recall."
      ],
      "metadata": {
        "id": "2K941ppx6EBJ"
      }
    },
    {
      "cell_type": "markdown",
      "source": [
        "### Максимизировать Precision целесообразно в случаях\n",
        "\n",
        "1. когда \"качество\" клиентов имеет большее значение, чем количество: репутация компании важнее количества клиентов, клиенты выполнят свои обязательства\n",
        "2. при опледелении съедобности гриба, сомнительный гриб лучше отнести к ядовитым"
      ],
      "metadata": {
        "id": "DcmAh8u-6NRT"
      }
    },
    {
      "cell_type": "markdown",
      "source": [
        "### Максимизировать Recall целесообразно в случаях\n",
        "\n",
        "1.   когда последствия ошибки слишком велики или необратимы: удаление злокачественых участков\n",
        "2.  когда количество клиентов имеет большее значение, чем \"качество\":  банк может выдать больше кредитов, не отсеивая спорных клиентов\n",
        "\n"
      ],
      "metadata": {
        "id": "9S4lcPcj7IGI"
      }
    },
    {
      "cell_type": "markdown",
      "source": [
        "## Почему мы используем F-меру, почему, например, нельзя просто взять среднее от Precision и Recall\n",
        "F-мера позволяет позволяет оценить Precision и Recall в комплексе, а так же уменьшать или увеличивать их влияние\n",
        "\n"
      ],
      "metadata": {
        "id": "6rfGwlHzoljm"
      }
    }
  ]
}